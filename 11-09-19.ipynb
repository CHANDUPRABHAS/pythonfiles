{
 "cells": [
  {
   "cell_type": "markdown",
   "metadata": {},
   "source": [
    "## palaton"
   ]
  },
  {
   "cell_type": "code",
   "execution_count": 1,
   "metadata": {},
   "outputs": [
    {
     "name": "stdout",
     "output_type": "stream",
     "text": [
      "1258\n",
      "1\n",
      "2\n",
      "5\n",
      "8\n"
     ]
    }
   ],
   "source": [
    "n=input()\n",
    "for i in n:\n",
    "    print(i)"
   ]
  },
  {
   "cell_type": "code",
   "execution_count": 2,
   "metadata": {},
   "outputs": [
    {
     "name": "stdout",
     "output_type": "stream",
     "text": [
      "845559992\n"
     ]
    },
    {
     "data": {
      "text/plain": [
       "299955548"
      ]
     },
     "execution_count": 2,
     "metadata": {},
     "output_type": "execute_result"
    }
   ],
   "source": [
    "n=input() \n",
    "n=int(n[::-1])\n",
    "n"
   ]
  },
  {
   "cell_type": "markdown",
   "metadata": {},
   "source": [
    "## special number or not"
   ]
  },
  {
   "cell_type": "code",
   "execution_count": 8,
   "metadata": {
    "scrolled": false
   },
   "outputs": [
    {
     "name": "stdout",
     "output_type": "stream",
     "text": [
      "enter a number  39\n",
      "is not a special number 39\n"
     ]
    }
   ],
   "source": [
    "n=int(input(\"enter a number  \"))\n",
    "if n>9 and n<99:\n",
    "    a=n%10\n",
    "    b=n/10\n",
    "    c=a*b\n",
    "    d=a+b\n",
    "    e=c+d\n",
    "    if e==n:\n",
    "        print(\"is special number\"  ,n)\n",
    "    else:\n",
    "        print(\"is not a special number\"  ,n)\n",
    "else:\n",
    "    print(\"enter number is special number\")\n"
   ]
  },
  {
   "cell_type": "code",
   "execution_count": 7,
   "metadata": {
    "scrolled": true
   },
   "outputs": [
    {
     "data": {
      "text/plain": [
       "['__add__',\n",
       " '__class__',\n",
       " '__contains__',\n",
       " '__delattr__',\n",
       " '__delitem__',\n",
       " '__dir__',\n",
       " '__doc__',\n",
       " '__eq__',\n",
       " '__format__',\n",
       " '__ge__',\n",
       " '__getattribute__',\n",
       " '__getitem__',\n",
       " '__gt__',\n",
       " '__hash__',\n",
       " '__iadd__',\n",
       " '__imul__',\n",
       " '__init__',\n",
       " '__init_subclass__',\n",
       " '__iter__',\n",
       " '__le__',\n",
       " '__len__',\n",
       " '__lt__',\n",
       " '__mul__',\n",
       " '__ne__',\n",
       " '__new__',\n",
       " '__reduce__',\n",
       " '__reduce_ex__',\n",
       " '__repr__',\n",
       " '__reversed__',\n",
       " '__rmul__',\n",
       " '__setattr__',\n",
       " '__setitem__',\n",
       " '__sizeof__',\n",
       " '__str__',\n",
       " '__subclasshook__',\n",
       " 'append',\n",
       " 'clear',\n",
       " 'copy',\n",
       " 'count',\n",
       " 'extend',\n",
       " 'index',\n",
       " 'insert',\n",
       " 'pop',\n",
       " 'remove',\n",
       " 'reverse',\n",
       " 'sort']"
      ]
     },
     "execution_count": 7,
     "metadata": {},
     "output_type": "execute_result"
    }
   ],
   "source": [
    "dir(list)"
   ]
  },
  {
   "cell_type": "markdown",
   "metadata": {},
   "source": [
    "#  perfect number\n"
   ]
  },
  {
   "cell_type": "code",
   "execution_count": 3,
   "metadata": {},
   "outputs": [
    {
     "name": "stdout",
     "output_type": "stream",
     "text": [
      "enter the lb  3\n",
      "enter the ub  30\n",
      "perfect number is 6\n",
      "perfect number is 28\n"
     ]
    }
   ],
   "source": [
    "lb=int(input(\"enter the lb  \"))\n",
    "ub=int(input(\"enter the ub  \"))\n",
    "# n=int(input())\n",
    "f=0\n",
    "def findfactor(n,f):\n",
    "    for i in range(1,n):\n",
    "            if n%i==0:\n",
    "                f=f+i \n",
    "    if f==n:\n",
    "        print(\"perfect number is\",n)\n",
    "for k in range(lb,ub+1):\n",
    "    findfactor(k,f)                        \n",
    "    "
   ]
  },
  {
   "cell_type": "markdown",
   "metadata": {},
   "source": [
    "# PRIME NUMBER IN A RANGE"
   ]
  },
  {
   "cell_type": "code",
   "execution_count": 5,
   "metadata": {},
   "outputs": [
    {
     "name": "stdout",
     "output_type": "stream",
     "text": [
      "enter the lb  29\n",
      "enter the ub  60\n",
      "prime number is 29\n",
      "prime number is 31\n",
      "prime number is 37\n",
      "prime number is 41\n",
      "prime number is 43\n",
      "prime number is 47\n",
      "prime number is 53\n",
      "prime number is 59\n"
     ]
    }
   ],
   "source": [
    "lb=int(input(\"enter the lb  \"))\n",
    "ub=int(input(\"enter the ub  \"))\n",
    "f=1\n",
    "def findfactor(n,f):\n",
    "    for i in range(1,n):\n",
    "            if n%i==0:\n",
    "                f=f+i \n",
    "    if f==2:\n",
    "        print(\"prime number is\",n)\n",
    "for k in range(lb,ub+1):\n",
    "    findfactor(k,f)                        \n",
    "    "
   ]
  }
 ],
 "metadata": {
  "kernelspec": {
   "display_name": "Python 3",
   "language": "python",
   "name": "python3"
  },
  "language_info": {
   "codemirror_mode": {
    "name": "ipython",
    "version": 3
   },
   "file_extension": ".py",
   "mimetype": "text/x-python",
   "name": "python",
   "nbconvert_exporter": "python",
   "pygments_lexer": "ipython3",
   "version": "3.7.3"
  }
 },
 "nbformat": 4,
 "nbformat_minor": 2
}
